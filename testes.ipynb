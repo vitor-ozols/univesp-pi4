{
 "cells": [
  {
   "cell_type": "code",
   "execution_count": 5,
   "metadata": {},
   "outputs": [],
   "source": [
    "from openai import OpenAI\n",
    "import os\n",
    "client = OpenAI(api_key=os.getenv('OPENAI_API_KEY'))\n",
    "\n",
    "prompt = open('prompts/intro.txt', encoding='utf-8').read()"
   ]
  },
  {
   "cell_type": "code",
   "execution_count": 6,
   "metadata": {},
   "outputs": [],
   "source": [
    "\n",
    "# Chama a API do ChatGPT com GPT-4 usando a nova interface\n",
    "response = client.chat.completions.create(\n",
    "    model=\"gpt-4-turbo\",\n",
    "    messages=[{\"role\": \"system\", \"content\": prompt},\n",
    "              {\"role\": \"user\", \"content\": 'qual foi o ano que mais teve chamados?'}])  "
   ]
  },
  {
   "cell_type": "code",
   "execution_count": 8,
   "metadata": {},
   "outputs": [],
   "source": [
    "import json\n",
    "\n",
    "json = json.loads(response.choices[0].message.content.strip())"
   ]
  },
  {
   "cell_type": "code",
   "execution_count": 10,
   "metadata": {},
   "outputs": [],
   "source": [
    "import plotly.graph_objects as go\n",
    "import duckdb\n",
    "\n",
    "foo = \"\"\"\n",
    "def graph_plotly():\n",
    "    query = \"SELECT Ano, COUNT(*) as Total_Chamados FROM read_parquet('../database/*/*/*/*.parquet') GROUP BY Ano\"\n",
    "    df = duckdb.sql(query).df()\n",
    "    print(df)\n",
    "    fig = go.Figure(\n",
    "    data=[go.Bar(x=df['Ano'], y=df['Total_Chamados'])],\n",
    "    layout_title_text=\"Total de Chamados por Ano\")\n",
    "    elements = [cl.Plotly(name=\"chart\", figure=fig, display=\"inline\")]\n",
    "    return elements\"\"\"\n",
    "\n",
    "a = exec(foo)"
   ]
  },
  {
   "cell_type": "code",
   "execution_count": 9,
   "metadata": {},
   "outputs": [
    {
     "name": "stdout",
     "output_type": "stream",
     "text": [
      "None\n"
     ]
    }
   ],
   "source": [
    "print(a)"
   ]
  }
 ],
 "metadata": {
  "kernelspec": {
   "display_name": "Python 3",
   "language": "python",
   "name": "python3"
  },
  "language_info": {
   "codemirror_mode": {
    "name": "ipython",
    "version": 3
   },
   "file_extension": ".py",
   "mimetype": "text/x-python",
   "name": "python",
   "nbconvert_exporter": "python",
   "pygments_lexer": "ipython3",
   "version": "3.12.1"
  }
 },
 "nbformat": 4,
 "nbformat_minor": 2
}
