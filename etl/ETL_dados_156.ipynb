{
 "cells": [
  {
   "cell_type": "markdown",
   "metadata": {
    "id": "c6aY6H8aHGEQ"
   },
   "source": [
    "### Instalação das dependências do Projeto\n",
    "\n",
    "- Scrapy para fazer parsear o html da pagina do 156 e coletar todas as urls dos csvs\n",
    "\n",
    "- Duckdb para para conseguir ler os arquivos de forma otimizada\n",
    "\n",
    "- Pyarrow para conseguir salvar os arquivos como parquet"
   ]
  },
  {
   "cell_type": "code",
   "execution_count": 1,
   "metadata": {
    "colab": {
     "base_uri": "https://localhost:8080/"
    },
    "id": "s68m61XXogSz",
    "outputId": "ee02ae80-8599-42af-fafe-bd6a2200d2c1"
   },
   "outputs": [
    {
     "name": "stdout",
     "output_type": "stream",
     "text": [
      "\n",
      "\u001b[1m[\u001b[0m\u001b[34;49mnotice\u001b[0m\u001b[1;39;49m]\u001b[0m\u001b[39;49m A new release of pip is available: \u001b[0m\u001b[31;49m24.2\u001b[0m\u001b[39;49m -> \u001b[0m\u001b[32;49m24.3.1\u001b[0m\n",
      "\u001b[1m[\u001b[0m\u001b[34;49mnotice\u001b[0m\u001b[1;39;49m]\u001b[0m\u001b[39;49m To update, run: \u001b[0m\u001b[32;49mpython3 -m pip install --upgrade pip\u001b[0m\n",
      "\n",
      "\u001b[1m[\u001b[0m\u001b[34;49mnotice\u001b[0m\u001b[1;39;49m]\u001b[0m\u001b[39;49m A new release of pip is available: \u001b[0m\u001b[31;49m24.2\u001b[0m\u001b[39;49m -> \u001b[0m\u001b[32;49m24.3.1\u001b[0m\n",
      "\u001b[1m[\u001b[0m\u001b[34;49mnotice\u001b[0m\u001b[1;39;49m]\u001b[0m\u001b[39;49m To update, run: \u001b[0m\u001b[32;49mpython3 -m pip install --upgrade pip\u001b[0m\n",
      "\n",
      "\u001b[1m[\u001b[0m\u001b[34;49mnotice\u001b[0m\u001b[1;39;49m]\u001b[0m\u001b[39;49m A new release of pip is available: \u001b[0m\u001b[31;49m24.2\u001b[0m\u001b[39;49m -> \u001b[0m\u001b[32;49m24.3.1\u001b[0m\n",
      "\u001b[1m[\u001b[0m\u001b[34;49mnotice\u001b[0m\u001b[1;39;49m]\u001b[0m\u001b[39;49m To update, run: \u001b[0m\u001b[32;49mpython3 -m pip install --upgrade pip\u001b[0m\n"
     ]
    }
   ],
   "source": [
    "!pip install -q scrapy\n",
    "!pip install -q duckdb\n",
    "!pip install -q pyarrow"
   ]
  },
  {
   "cell_type": "code",
   "execution_count": 3,
   "metadata": {
    "id": "mseGydFIr0xE"
   },
   "outputs": [],
   "source": [
    "import requests\n",
    "from scrapy import Selector\n",
    "from urllib.parse import urljoin\n",
    "import pandas as pd\n",
    "import requests\n",
    "from glob import glob\n",
    "from IPython.display import clear_output\n",
    "import os\n",
    "#import duckdb"
   ]
  },
  {
   "cell_type": "markdown",
   "metadata": {
    "id": "epB3ITrd3Roc"
   },
   "source": [
    "### Scraping:\n",
    "\n",
    "A Etapa abaixo, realiza a raspagem do site da prefeitura, coletando todas as urls dos CSVs"
   ]
  },
  {
   "cell_type": "code",
   "execution_count": 4,
   "metadata": {
    "colab": {
     "base_uri": "https://localhost:8080/"
    },
    "id": "isqjbZ03rd8j",
    "outputId": "f895d38d-96f9-48a4-e1f3-865f90d5e1a3"
   },
   "outputs": [
    {
     "name": "stdout",
     "output_type": "stream",
     "text": [
      "200\n",
      "http://dados.prefeitura.sp.gov.br/dataset/0aecfa2b-aa3a-40d4-8183-0d4351b7fd0a/resource/3c12fe0a-ec4f-4a20-a987-dd177330f4ce/download/arquivofinal3tride2024.csv\n",
      "http://dados.prefeitura.sp.gov.br/dataset/0aecfa2b-aa3a-40d4-8183-0d4351b7fd0a/resource/2d020379-fa40-4dc0-8d17-add74b119550/download/arquivofinal2tri2024.csv\n",
      "http://dados.prefeitura.sp.gov.br/dataset/0aecfa2b-aa3a-40d4-8183-0d4351b7fd0a/resource/787c054d-3e77-46c8-8713-e4e26eb2dd55/download/arquivofinal1tride2024.csv\n",
      "http://dados.prefeitura.sp.gov.br/dataset/0aecfa2b-aa3a-40d4-8183-0d4351b7fd0a/resource/33d41278-02de-417a-a99a-5e01d3d87952/download/arquivofinal4tride2023.csv\n",
      "http://dados.prefeitura.sp.gov.br/dataset/0aecfa2b-aa3a-40d4-8183-0d4351b7fd0a/resource/b01a9038-969e-4630-bd3a-4abe188b7259/download/arquivofinal3tri2023.csv\n",
      "http://dados.prefeitura.sp.gov.br/dataset/0aecfa2b-aa3a-40d4-8183-0d4351b7fd0a/resource/7978d3ba-d379-44db-993b-61b9ff406435/download/arquivofinal2tride2023.csv\n",
      "http://dados.prefeitura.sp.gov.br/dataset/0aecfa2b-aa3a-40d4-8183-0d4351b7fd0a/resource/d3043e41-4270-47b5-9922-9e35edd10950/download/arquivofinal1tride2023.csv\n",
      "http://dados.prefeitura.sp.gov.br/dataset/0aecfa2b-aa3a-40d4-8183-0d4351b7fd0a/resource/68408b82-9123-4be0-87cf-bff9096947c6/download/arquivofinal4tride2022.csv\n",
      "http://dados.prefeitura.sp.gov.br/dataset/0aecfa2b-aa3a-40d4-8183-0d4351b7fd0a/resource/69b1460a-a245-47fa-bbb0-51f5e57c2f28/download/arquivofinal3tride2022.csv\n",
      "http://dados.prefeitura.sp.gov.br/dataset/0aecfa2b-aa3a-40d4-8183-0d4351b7fd0a/resource/6de63b14-e804-44cb-9be1-e8b2971504ce/download/arquivofinal2tride2022.csv\n",
      "http://dados.prefeitura.sp.gov.br/dataset/0aecfa2b-aa3a-40d4-8183-0d4351b7fd0a/resource/6e6b299c-1952-433c-be06-797a2bc14fda/download/arquivofinal1tride2022.csv\n",
      "http://dados.prefeitura.sp.gov.br/dataset/0aecfa2b-aa3a-40d4-8183-0d4351b7fd0a/resource/a08159cf-5263-430f-a16b-8d0683c5cb4c/download/arquivofinal4tride2021.csv\n",
      "http://dados.prefeitura.sp.gov.br/dataset/0aecfa2b-aa3a-40d4-8183-0d4351b7fd0a/resource/9b42cbd8-3d2e-4c9f-993e-6c49e62f1818/download/arquivofinal3tride2021.csv\n",
      "http://dados.prefeitura.sp.gov.br/dataset/0aecfa2b-aa3a-40d4-8183-0d4351b7fd0a/resource/9aac32a3-67fb-4ce4-847a-29967f909ef6/download/arquivofinal2tri2021.csv\n",
      "http://dados.prefeitura.sp.gov.br/dataset/0aecfa2b-aa3a-40d4-8183-0d4351b7fd0a/resource/3014d1de-8c16-4aa1-b03a-b8434905eab1/download/arquivofinal1tride2021.csv\n",
      "http://dados.prefeitura.sp.gov.br/dataset/0aecfa2b-aa3a-40d4-8183-0d4351b7fd0a/resource/02c449fc-1b5a-46d9-bcd3-b81db2751df6/download/arquivofinal6bi2020.csv\n",
      "http://dados.prefeitura.sp.gov.br/dataset/0aecfa2b-aa3a-40d4-8183-0d4351b7fd0a/resource/979baf13-5640-4cf7-8ad3-e465ce98fa2d/download/arquivofinal5bi2020.csv\n",
      "http://dados.prefeitura.sp.gov.br/dataset/0aecfa2b-aa3a-40d4-8183-0d4351b7fd0a/resource/a96a91e1-9328-4cf2-b77b-96865c978033/download/arquivofina4bide2020.csv\n",
      "http://dados.prefeitura.sp.gov.br/dataset/0aecfa2b-aa3a-40d4-8183-0d4351b7fd0a/resource/b9c5aabf-bfe8-4933-95df-c880ff927dc0/download/arquivofina3bide2020.csv\n",
      "http://dados.prefeitura.sp.gov.br/dataset/0aecfa2b-aa3a-40d4-8183-0d4351b7fd0a/resource/75356e9d-585d-4aa6-ac6c-b6245624623b/download/arquivofina2bide2020.csv\n",
      "http://dados.prefeitura.sp.gov.br/dataset/0aecfa2b-aa3a-40d4-8183-0d4351b7fd0a/resource/91745827-93ac-4ef6-9055-21cc88b0d231/download/arquivofinal1bide2020.csv\n",
      "http://dados.prefeitura.sp.gov.br/dataset/0aecfa2b-aa3a-40d4-8183-0d4351b7fd0a/resource/0444ac8b-c47d-4799-9b29-69a8906419db/download/arquivofinal4tride2019.csv\n",
      "http://dados.prefeitura.sp.gov.br/dataset/0aecfa2b-aa3a-40d4-8183-0d4351b7fd0a/resource/d5632822-913a-4fac-bf53-fe7c123b70c4/download/arquivofinal3tri2019.csv\n",
      "http://dados.prefeitura.sp.gov.br/dataset/0aecfa2b-aa3a-40d4-8183-0d4351b7fd0a/resource/ca0c51f6-3a48-478e-817e-b5a396474923/download/arquivofinal2tride2019.csv\n",
      "http://dados.prefeitura.sp.gov.br/dataset/0aecfa2b-aa3a-40d4-8183-0d4351b7fd0a/resource/c9d2c14d-e31a-4c92-90fb-43ecb91fba17/download/arquivofinal1tride2019.csv\n",
      "http://dados.prefeitura.sp.gov.br/dataset/0aecfa2b-aa3a-40d4-8183-0d4351b7fd0a/resource/9fbfeae7-cbdc-4abd-9a06-115943ff86c7/download/arquivofinal4tri2018.csv\n",
      "http://dados.prefeitura.sp.gov.br/dataset/0aecfa2b-aa3a-40d4-8183-0d4351b7fd0a/resource/bdcd19e1-d5a0-4972-ae6f-53b9b76994cf/download/arquivofinal3tride2018.csv\n",
      "http://dados.prefeitura.sp.gov.br/dataset/0aecfa2b-aa3a-40d4-8183-0d4351b7fd0a/resource/48e72ece-0fca-4220-bf85-052f0e172cfc/download/arquivofinal2tri2018.csv\n",
      "http://dados.prefeitura.sp.gov.br/dataset/0aecfa2b-aa3a-40d4-8183-0d4351b7fd0a/resource/f6b6583f-1ea5-4be6-8ff1-a7c9ef38701a/download/arquivofinal1tride2018.csv\n",
      "http://dados.prefeitura.sp.gov.br/dataset/0aecfa2b-aa3a-40d4-8183-0d4351b7fd0a/resource/78b35ad3-bdb9-4a67-a9b6-c93ad9031b48/download/arquivofinal4tride2017.csv\n",
      "http://dados.prefeitura.sp.gov.br/dataset/0aecfa2b-aa3a-40d4-8183-0d4351b7fd0a/resource/cae8b355-f70f-4ecd-8659-04c6efc9fcf2/download/arquivofinal3tride2017.csv\n",
      "http://dados.prefeitura.sp.gov.br/dataset/0aecfa2b-aa3a-40d4-8183-0d4351b7fd0a/resource/ad6a5b74-fa05-49ca-984d-73d8af395880/download/arquivofinal2tri2017.csv\n",
      "http://dados.prefeitura.sp.gov.br/dataset/0aecfa2b-aa3a-40d4-8183-0d4351b7fd0a/resource/193bd5a3-66c0-4dde-8efb-c0c78031bf7c/download/arquivofinal1tride2017.csv\n",
      "http://dados.prefeitura.sp.gov.br/dataset/0aecfa2b-aa3a-40d4-8183-0d4351b7fd0a/resource/7ffee3db-a1a8-4e70-af5c-b3002d035aa8/download/arquivofinal4tride2016.csv\n",
      "http://dados.prefeitura.sp.gov.br/dataset/0aecfa2b-aa3a-40d4-8183-0d4351b7fd0a/resource/9188083e-57f3-4c2d-afe5-17f3c5382dd8/download/arquivofinal3tride2016.novo.csv\n",
      "http://dados.prefeitura.sp.gov.br/dataset/0aecfa2b-aa3a-40d4-8183-0d4351b7fd0a/resource/a48ce8ec-5639-4a2b-9598-f10186119dfd/download/arquivofinal2tride2016.csv\n",
      "http://dados.prefeitura.sp.gov.br/dataset/0aecfa2b-aa3a-40d4-8183-0d4351b7fd0a/resource/a9297647-db9d-448b-8110-02a0fbbd7848/download/arquivofinal1tride2016.csv\n",
      "http://dados.prefeitura.sp.gov.br/dataset/0aecfa2b-aa3a-40d4-8183-0d4351b7fd0a/resource/de5ce706-b1ce-48c3-97fc-12cafa823445/download/arquivofinal4tride2015.csv\n",
      "http://dados.prefeitura.sp.gov.br/dataset/0aecfa2b-aa3a-40d4-8183-0d4351b7fd0a/resource/0d89e996-89f4-4154-b6a6-e6e991e0971f/download/arquivofinal3tride2015.csv\n",
      "http://dados.prefeitura.sp.gov.br/dataset/0aecfa2b-aa3a-40d4-8183-0d4351b7fd0a/resource/4b21bb94-ee5d-48d8-806b-87dd7acbb678/download/arquivofinal2tride2015.csv\n",
      "http://dados.prefeitura.sp.gov.br/dataset/0aecfa2b-aa3a-40d4-8183-0d4351b7fd0a/resource/88c10950-4fc9-4ed7-a86c-53d3e4430619/download/arquivofinal1tride2015.csv\n",
      "http://dados.prefeitura.sp.gov.br/dataset/0aecfa2b-aa3a-40d4-8183-0d4351b7fd0a/resource/a1e179d8-4c28-4f54-9d5f-47e4c40d45ea/download/arquivofinal2sem2014.xlsx.csv\n",
      "http://dados.prefeitura.sp.gov.br/dataset/0aecfa2b-aa3a-40d4-8183-0d4351b7fd0a/resource/0f3089e2-ca7e-4b7a-a776-e56af02e23f1/download/arquivofinal1sem2014.xlsx.csv\n",
      "http://dados.prefeitura.sp.gov.br/dataset/0aecfa2b-aa3a-40d4-8183-0d4351b7fd0a/resource/78e30581-c517-4098-81ed-f0ff8d4feda3/download/arquivofinal2sem2013.xlsx.csv\n",
      "http://dados.prefeitura.sp.gov.br/dataset/0aecfa2b-aa3a-40d4-8183-0d4351b7fd0a/resource/328ab864-b07c-4ec8-9035-56d3dbac19fe/download/arquivofinal1sem2013.xlsx.csv\n",
      "http://dados.prefeitura.sp.gov.br/dataset/0aecfa2b-aa3a-40d4-8183-0d4351b7fd0a/resource/ecb2edb1-1a44-4ce0-8343-d4400b744b9e/download/arquivofinal2sem2012.xlsx.csv\n",
      "http://dados.prefeitura.sp.gov.br/dataset/0aecfa2b-aa3a-40d4-8183-0d4351b7fd0a/resource/e08a9a50-969a-43ec-b5df-dff69b026c7d/download/arquivofinal1sem2012.xlsx.csv\n"
     ]
    }
   ],
   "source": [
    "def fetch_csv_urls():\n",
    "    url = 'http://dados.prefeitura.sp.gov.br/dataset/dados-do-sp156'\n",
    "    response = requests.get(url)\n",
    "    print(response.status_code)\n",
    "    sel = Selector(text=response.text)\n",
    "    csv_links = sel.css('a::attr(href)').re(r'.*\\.csv$')\n",
    "    csv_links = [urljoin(response.url, link) for link in csv_links]\n",
    "    return csv_links\n",
    "\n",
    "if __name__ == \"__main__\":\n",
    "    csv_urls = fetch_csv_urls()\n",
    "    for url in csv_urls:\n",
    "        print(url)\n",
    "        with open('urls.txt', 'a') as file:\n",
    "            file.write(url + '\\n')\n"
   ]
  },
  {
   "cell_type": "markdown",
   "metadata": {
    "id": "CGqwVw1VHy0e"
   },
   "source": [
    "### Download dos arquivos CSV\n",
    "\n",
    "Neste momento iremos realizar o download de todos os arquivos do tipo CSV e vamos converter para parquet, que é um formato mais otimizado."
   ]
  },
  {
   "cell_type": "code",
   "execution_count": 8,
   "metadata": {
    "id": "VNWo_XcqGKXR"
   },
   "outputs": [
    {
     "name": "stdout",
     "output_type": "stream",
     "text": [
      "Erro ao baixar http://dados.prefeitura.sp.gov.br/dataset/0aecfa2b-aa3a-40d4-8183-0d4351b7fd0a/resource/a0f741c5-f406-4bda-b0c7-cab1af6bbd89/download/arquivofinal2tri2021.csv: Status 404\n",
      "download arquivofinal2tri2021.csv\n"
     ]
    }
   ],
   "source": [
    "# Função para baixar o CSV\n",
    "def download_csv(url, save_path):\n",
    "    response = requests.get(url)\n",
    "    if response.status_code == 200:\n",
    "        with open(save_path, 'wb') as file:\n",
    "            file.write(response.content)\n",
    "    else:\n",
    "        print(f\"Erro ao baixar {url}: Status {response.status_code}\")\n",
    "\n",
    "\n",
    "# Função para processar as URLs\n",
    "def process_urls(file_with_urls):\n",
    "    # Lê as URLs do arquivo de texto\n",
    "    with open(file_with_urls, 'r') as file:\n",
    "        urls = file.read().splitlines()\n",
    "\n",
    "    for url in urls:\n",
    "        file_name = os.path.basename(url)\n",
    "        csv_path = f\"../downloads/{file_name}\"\n",
    "        download_csv(url, csv_path)\n",
    "        print(f\"download {file_name}\")\n",
    "\n",
    "file_with_urls = 'urls.txt'\n",
    "os.makedirs('../downloads', exist_ok=True)\n",
    "process_urls(file_with_urls)\n"
   ]
  },
  {
   "cell_type": "markdown",
   "metadata": {},
   "source": [
    "### Conversão de arquivos em CSV para PARQUET e particionamento\n",
    "\n",
    "Nesta etapa, estamos realizando a conversão de todos os arquivos tipo CSV para parquet, que é um format otimado, e também estamos particionando os dados, para tornar as consultas mais leves."
   ]
  },
  {
   "cell_type": "code",
   "execution_count": 17,
   "metadata": {
    "colab": {
     "base_uri": "https://localhost:8080/"
    },
    "id": "2JEH0dUZB53G",
    "outputId": "d9c6dc13-7b17-453a-e23c-c030e4591e3b"
   },
   "outputs": [
    {
     "name": "stdout",
     "output_type": "stream",
     "text": [
      "../downloads/arquivofinal3tri2016.csv\n"
     ]
    }
   ],
   "source": [
    "import re\n",
    "import unicodedata\n",
    "import pandas as pd\n",
    "import os\n",
    "from glob import glob\n",
    "from IPython.display import clear_output\n",
    "\n",
    "def convert_columns_to_snake_case(df):\n",
    "    \"\"\"Converte os nomes das colunas para snake_case removendo acentos e substituindo caracteres especiais.\"\"\"\n",
    "    def remove_accents(input_str):\n",
    "        nfkd_form = unicodedata.normalize('NFKD', input_str)\n",
    "        return ''.join([c for c in nfkd_form if not unicodedata.combining(c)])\n",
    "    \n",
    "    df.columns = [re.sub(r'[\\s\\-/]', '_', remove_accents(col)).lower() for col in df.columns]\n",
    "    return df\n",
    "\n",
    "\n",
    "def csv_to_parquet():\n",
    "    for path in glob('../downloads/*.csv'):\n",
    "        print(path)\n",
    "        df = pd.read_csv(path, encoding='latin-1', sep=';')\n",
    "        \n",
    "        df = convert_columns_to_snake_case(df)\n",
    "\n",
    "        default_values = {\n",
    "            'data_de_abertura': '0000-00-00 00:00:00',\n",
    "            'canal': '',\n",
    "            'tema': '',\n",
    "            'assunto': '',\n",
    "            'servico': '',\n",
    "            'logradouro': '',\n",
    "            'cep': '',\n",
    "            'numero': '',\n",
    "            'subprefeitura': '',\n",
    "            'distrito': '',\n",
    "            'latitude': 0.0,\n",
    "            'longitude': 0.0,\n",
    "            'data_do_parecer': '0000-00-00 00:00:00',\n",
    "            'status_da_solicitacao': '',\n",
    "            'orgao': '',\n",
    "            'nivel': '',\n",
    "            'data': '0000-00-00',\n",
    "            'prazo_atendimento': '',\n",
    "            'qualidade_atendimento': '',\n",
    "            'atendeu_solicitacao': ''\n",
    "        }\n",
    "\n",
    "        for col, default_value in default_values.items():\n",
    "            if col not in df.columns:\n",
    "                df[col] = default_value\n",
    "\n",
    "        datetime_cols = ['data_de_abertura', 'data_do_parecer']\n",
    "        for col in datetime_cols:\n",
    "            df[col] = pd.to_datetime(df[col], errors='coerce')\n",
    "\n",
    "        string_cols = ['numero', 'orgao', 'nivel', 'atendeu_solicitacao', 'cep']\n",
    "        for col in string_cols:\n",
    "            df[col] = df[col].astype(str).fillna('')\n",
    "\n",
    "        numeric_cols = ['latitude', 'longitude']\n",
    "        for col in numeric_cols:\n",
    "            df[col] = pd.to_numeric(df[col], errors='coerce').fillna(0.0).astype(float)\n",
    "\n",
    "        df['ano'] = df['data_de_abertura'].dt.year\n",
    "        df['mes'] = df['data_de_abertura'].dt.month\n",
    "\n",
    "        parquet_path = os.path.join('../database', os.path.basename(path).replace('.csv', ''))\n",
    "        os.makedirs(parquet_path, exist_ok=True)\n",
    "        df.to_parquet(parquet_path, index=False, partition_cols=['ano', 'mes'])\n",
    "\n",
    "        clear_output(wait=True)\n",
    "\n",
    "csv_to_parquet()"
   ]
  },
  {
   "cell_type": "markdown",
   "metadata": {},
   "source": [
    "### Testes com Duckdb"
   ]
  },
  {
   "cell_type": "code",
   "execution_count": 21,
   "metadata": {
    "colab": {
     "base_uri": "https://localhost:8080/",
     "height": 170,
     "referenced_widgets": [
      "5cb98f87fdd64ce497e8a56756e83ea6",
      "597b362bbda54b2490f6eb47164865e0",
      "72c59ef3d83f4889877288e78dc2a962"
     ]
    },
    "id": "kDq8vXgGQJUK",
    "outputId": "cf392c2d-ec3b-4c87-c16d-01faaf8eb111"
   },
   "outputs": [
    {
     "name": "stdout",
     "output_type": "stream",
     "text": [
      "┌─────────────────────┬────────────────────┬────────────────────────────────┬──────────────────────────────────────────────────────────────┬─────────────────────────────────────────────────────────────────┬──────────────────────────────────┬─────────┬────────────┬───────────────────────────┬────────────────────────────────────┬─────────────┬─────────────┬─────────────────┬───────────────────────┬───────────────────┬─────────┬─────────┬───────────────────┬───────────────────────┬─────────────────────┬──────────┬─────────────────────┬─────────────────────┬────────────────┬────────────────────────────────────────────────────────────────────────────────────────────────────────────────────────────────┬────────┬────────┬─────────┬──────────────────┬─────────┬─────────┐\n",
      "│  data_de_abertura   │       canal        │              tema              │                           assunto                            │                             servico                             │            logradouro            │ numero  │    cep     │       subprefeitura       │               bairro               │  latitude   │  longitude  │ data_de_parecer │ status_da_solicitacao │       orgao       │  data   │  nivel  │ prazo_atendimento │ qualidade_atendimento │ atendeu_solicitacao │ distrito │   data_do_parecer   │ data_de_finalizacao │ id_solicitacao │ data_de_abertura,canal_de_atendimento,assunto,especificaa§a£o_do_assunto,bairro,arga£o,status_da_solicitaa§a£o,data_do_parecer │ setor  │ quadra │ orgao.1 │ data_do_parecer_ │   ano   │   mes   │\n",
      "│    timestamp_ns     │      varchar       │            varchar             │                           varchar                            │                             varchar                             │             varchar              │ varchar │  varchar   │          varchar          │              varchar               │   double    │   double    │     varchar     │        varchar        │      varchar      │ varchar │ varchar │      varchar      │        varchar        │       varchar       │ varchar  │    timestamp_ns     │       varchar       │     int64      │                                                            varchar                                                             │ double │ double │ varchar │     varchar      │ varchar │ varchar │\n",
      "├─────────────────────┼────────────────────┼────────────────────────────────┼──────────────────────────────────────────────────────────────┼─────────────────────────────────────────────────────────────────┼──────────────────────────────────┼─────────┼────────────┼───────────────────────────┼────────────────────────────────────┼─────────────┼─────────────┼─────────────────┼───────────────────────┼───────────────────┼─────────┼─────────┼───────────────────┼───────────────────────┼─────────────────────┼──────────┼─────────────────────┼─────────────────────┼────────────────┼────────────────────────────────────────────────────────────────────────────────────────────────────────────────────────────────┼────────┼────────┼─────────┼──────────────────┼─────────┼─────────┤\n",
      "│ 2024-02-01 00:00:57 │ CENTRAL TELEFÔNICA │ Urgência                       │ Defesa Civil                                                 │ Queda de galho                                                  │ Rua Gonçalo Nunes                │ nan     │ nan        │ ARICANDUVA-FORMOSA-CARRAO │ NULL                               │         0.0 │         0.0 │ NULL            │ FINALIZADA            │ SMSU/Defesa Civil │ NULL    │ nan     │ NULL              │ NULL                  │ nan                 │          │ 2024-02-01 06:54:24 │ NULL                │           NULL │ NULL                                                                                                                           │   NULL │   NULL │ NULL    │ NULL             │ 2024    │ 2       │\n",
      "│ 2024-02-01 00:01:02 │ APLICATIVO         │ Rua e bairro                   │ Reparos em asfalto, pontes e viadutos                        │ Tapa-buraco                                                     │ Estrada Manuel de Oliveira Ramos │ 260.0   │ 84730050.0 │ CIDADE TIRADENTES         │ Conjunto Habitacional Castro Alves │   -23.57681 │ -46.4098865 │ NULL            │ FINALIZADA            │ SMSUB             │ NULL    │ nan     │ NULL              │ NULL                  │ nan                 │          │ 2024-02-06 16:51:10 │ NULL                │           NULL │ NULL                                                                                                                           │   NULL │   NULL │ NULL    │ NULL             │ 2024    │ 2       │\n",
      "│ 2024-02-01 00:02:02 │ PORTAL ONLINE      │ Trânsito e Transporte          │ Sinalização e Circulação de Veículos e Pedestres             │ Rodízio de veículos - Isenção para pessoa com deficiência (PCD) │ NULL                             │ nan     │ nan        │ NULL                      │ CANINDÉ                            │         0.0 │         0.0 │ NULL            │ FINALIZADA            │ SMT               │ NULL    │ nan     │ NULL              │ NULL                  │ nan                 │          │ 2024-03-19 08:10:34 │ NULL                │           NULL │ NULL                                                                                                                           │   NULL │   NULL │ NULL    │ NULL             │ 2024    │ 2       │\n",
      "│ 2024-02-01 00:03:00 │ PORTAL ONLINE      │ Rua e bairro                   │ Poluição Sonora - PSIU                                       │ Reclamação de poluição sonora - PSIU                            │ Rua Francisco Dantas             │ 336.0   │ 3756040.0  │ PENHA                     │ NULL                               │ -23.5051166 │  -46.503152 │ NULL            │ FINALIZADA            │ SMSUB             │ NULL    │ nan     │ NULL              │ NULL                  │ nan                 │          │ 2024-06-03 19:59:41 │ NULL                │           NULL │ NULL                                                                                                                           │   NULL │   NULL │ NULL    │ NULL             │ 2024    │ 2       │\n",
      "│ 2024-02-01 00:03:37 │ PORTAL ONLINE      │ Trânsito e Transporte          │ Sinalização e Circulação de Veículos e Pedestres             │ Rodízio de veículos - Isenção para pessoa com deficiência (PCD) │ NULL                             │ nan     │ nan        │ NULL                      │ PARQUE INDEPENDÊNCIA               │         0.0 │         0.0 │ NULL            │ FINALIZADA            │ SMT               │ NULL    │ nan     │ NULL              │ NULL                  │ nan                 │          │ 2024-03-19 08:21:19 │ NULL                │           NULL │ NULL                                                                                                                           │   NULL │   NULL │ NULL    │ NULL             │ 2024    │ 2       │\n",
      "│ 2024-02-01 00:03:43 │ PORTAL ONLINE      │ Trânsito e Transporte          │ Ônibus - Conduta de Trabalho do Motorista, Cobrador e Fiscal │ Olho Vivo - Reclamações                                         │ Travessa Marieta Pastore         │ 2.0     │ 2237050.0  │ JACANA-TREMEMBE           │ JARDIM MODELO                      │ -23.4646476 │ -46.5682753 │ NULL            │ FINALIZADA            │ SPTRANS           │ NULL    │ nan     │ NULL              │ NULL                  │ nan                 │          │ 2024-02-05 09:30:03 │ NULL                │           NULL │ NULL                                                                                                                           │   NULL │   NULL │ NULL    │ NULL             │ 2024    │ 2       │\n",
      "│ 2024-02-01 00:04:21 │ PORTAL ONLINE      │ Animais                        │ Registro de animais - RGA                                    │ Registro Geral do Animal (RGA) - Solicitar identidade do animal │ NULL                             │ nan     │ nan        │ NULL                      │ NULL                               │         0.0 │         0.0 │ NULL            │ FINALIZADA            │ SMS               │ NULL    │ nan     │ NULL              │ NULL                  │ nan                 │          │ 2024-02-17 08:55:25 │ NULL                │           NULL │ NULL                                                                                                                           │   NULL │   NULL │ NULL    │ NULL             │ 2024    │ 2       │\n",
      "│ 2024-02-01 00:04:34 │ CENTRAL TELEFÔNICA │ Cidadania e assistência social │ População ou pessoa em situação de rua                       │ Altas Temperaturas - Solicitar Atendimento Social               │ Rua Sinfonias do Ocaso           │ 185.0   │ 3938170.0  │ SAPOPEMBA                 │ NULL                               │ -23.6007179 │  -46.502331 │ NULL            │ FINALIZADA            │ SMADS             │ NULL    │ nan     │ NULL              │ NULL                  │ nan                 │          │ 2024-02-01 01:56:31 │ NULL                │           NULL │ NULL                                                                                                                           │   NULL │   NULL │ NULL    │ NULL             │ 2024    │ 2       │\n",
      "│ 2024-02-01 00:06:20 │ APLICATIVO         │ Rua e bairro                   │ Reparos em asfalto, pontes e viadutos                        │ Tapa-buraco                                                     │ Travessa Claudio Bonifacio       │ 42.0    │ 8474.0     │ CIDADE TIRADENTES         │ Conjunto Habitacional Castro Alves │ -23.5761896 │ -46.4098115 │ NULL            │ FINALIZADA            │ SMSUB             │ NULL    │ nan     │ NULL              │ NULL                  │ nan                 │          │ 2024-03-28 15:50:55 │ NULL                │           NULL │ NULL                                                                                                                           │   NULL │   NULL │ NULL    │ NULL             │ 2024    │ 2       │\n",
      "│ 2024-02-01 00:06:47 │ CENTRAL TELEFÔNICA │ Cidadania e assistência social │ População ou pessoa em situação de rua                       │ Altas Temperaturas - Solicitar Atendimento Social               │ Rua Herbart                      │ 47.0    │ 5072030.0  │ LAPA                      │ NULL                               │  -23.519351 │ -46.7017208 │ NULL            │ FINALIZADA            │ SMADS             │ NULL    │ nan     │ NULL              │ NULL                  │ nan                 │          │ 2024-02-01 01:59:17 │ NULL                │           NULL │ NULL                                                                                                                           │   NULL │   NULL │ NULL    │ NULL             │ 2024    │ 2       │\n",
      "│          ·          │       ·            │           ·                    │       ·                                                      │                         ·                                       │  ·                               │  ·      │  ·         │  ·                        │  ·                                 │          ·  │          ·  │  ·              │     ·                 │  ·                │  ·      │  ·      │  ·                │  ·                    │  ·                  │    ·     │          ·          │  ·                  │             ·  │  ·                                                                                                                             │     ·  │     ·  │  ·      │  ·               │  ·      │ ·       │\n",
      "│          ·          │       ·            │           ·                    │       ·                                                      │                         ·                                       │  ·                               │  ·      │  ·         │  ·                        │  ·                                 │          ·  │          ·  │  ·              │     ·                 │  ·                │  ·      │  ·      │  ·                │  ·                    │  ·                  │    ·     │          ·          │  ·                  │             ·  │  ·                                                                                                                             │     ·  │     ·  │  ·      │  ·               │  ·      │ ·       │\n",
      "│          ·          │       ·            │           ·                    │       ·                                                      │                         ·                                       │  ·                               │  ·      │  ·         │  ·                        │  ·                                 │          ·  │          ·  │  ·              │     ·                 │  ·                │  ·      │  ·      │  ·                │  ·                    │  ·                  │    ·     │          ·          │  ·                  │             ·  │  ·                                                                                                                             │     ·  │     ·  │  ·      │  ·               │  ·      │ ·       │\n",
      "│ 2024-02-02 09:32:59 │ PORTAL ONLINE      │ Trânsito e Transporte          │ Estacionamento                                               │ Cartão de estacionamento DeFis (pessoa com deficiência)         │ NULL                             │ nan     │ nan        │ NULL                      │ JARDIM TIETÊ                       │         0.0 │         0.0 │ NULL            │ FINALIZADA            │ SMT               │ NULL    │ nan     │ NULL              │ NULL                  │ nan                 │          │ 2024-02-09 16:00:04 │ NULL                │           NULL │ NULL                                                                                                                           │   NULL │   NULL │ NULL    │ NULL             │ 2024    │ 2       │\n",
      "│ 2024-02-02 09:32:59 │ PORTAL ONLINE      │ Trânsito e Transporte          │ Estacionamento                                               │ Cartão de estacionamento idoso                                  │ NULL                             │ nan     │ nan        │ NULL                      │ Santana                            │         0.0 │         0.0 │ NULL            │ FINALIZADA            │ SMT               │ NULL    │ nan     │ NULL              │ NULL                  │ nan                 │          │ 2024-02-02 11:45:05 │ NULL                │           NULL │ NULL                                                                                                                           │   NULL │   NULL │ NULL    │ NULL             │ 2024    │ 2       │\n",
      "│ 2024-02-02 09:33:05 │ PORTAL ONLINE      │ Trânsito e Transporte          │ Estacionamento                                               │ Cartão de estacionamento idoso                                  │ NULL                             │ nan     │ nan        │ NULL                      │ NULL                               │         0.0 │         0.0 │ NULL            │ FINALIZADA            │ SMT               │ NULL    │ nan     │ NULL              │ NULL                  │ nan                 │          │ 2024-02-02 09:33:06 │ NULL                │           NULL │ NULL                                                                                                                           │   NULL │   NULL │ NULL    │ NULL             │ 2024    │ 2       │\n",
      "│ 2024-02-02 09:33:09 │ CHATBOT            │ Lixo e limpeza                 │ Ponto viciado, entulho e caçamba de entulho                  │ Entulho e grandes objetos em via pública - solicitar remoção    │ Rua Evolução                     │ 1129.0  │ 4163001.0  │ IPIRANGA                  │ NULL                               │ -23.6354771 │ -46.6122462 │ NULL            │ FINALIZADA            │ SMSUB             │ NULL    │ nan     │ NULL              │ NULL                  │ nan                 │          │ 2024-02-03 16:22:08 │ NULL                │           NULL │ NULL                                                                                                                           │   NULL │   NULL │ NULL    │ NULL             │ 2024    │ 2       │\n",
      "│ 2024-02-02 09:33:24 │ CENTRAL TELEFÔNICA │ Rua e bairro                   │ Reparos em asfalto, pontes e viadutos                        │ Tapa-buraco                                                     │ Rua Rui Martins                  │ 170.0   │ 3184010.0  │ MOOCA                     │ Guaianases                         │ -23.5639243 │ -46.5868793 │ NULL            │ FINALIZADA            │ SMSUB             │ NULL    │ nan     │ NULL              │ NULL                  │ nan                 │          │ 2024-03-22 16:20:41 │ NULL                │           NULL │ NULL                                                                                                                           │   NULL │   NULL │ NULL    │ NULL             │ 2024    │ 2       │\n",
      "│ 2024-02-02 09:33:25 │ CENTRAL TELEFÔNICA │ Animais                        │ Animais que transmitem doenças ou risco à saúde              │ Abelhas e Vespas - Solicitar vistoria em ninhos                 │ Rua Ferdinando Rutini            │ nan     │ nan        │ PIRITUBA-JARAGUA          │ NULL                               │         0.0 │         0.0 │ NULL            │ FINALIZADA            │ SMS               │ NULL    │ nan     │ NULL              │ NULL                  │ nan                 │          │ 2024-05-07 10:50:18 │ NULL                │           NULL │ NULL                                                                                                                           │   NULL │   NULL │ NULL    │ NULL             │ 2024    │ 2       │\n",
      "│ 2024-02-02 09:33:35 │ CENTRAL TELEFÔNICA │ Urgência                       │ Defesa Civil                                                 │ Queda de árvore                                                 │ Rua Loreto                       │ nan     │ nan        │ IPIRANGA                  │ NULL                               │         0.0 │         0.0 │ NULL            │ FINALIZADA            │ SMSU/Defesa Civil │ NULL    │ nan     │ NULL              │ NULL                  │ nan                 │          │ 2024-02-02 16:25:41 │ NULL                │           NULL │ NULL                                                                                                                           │   NULL │   NULL │ NULL    │ NULL             │ 2024    │ 2       │\n",
      "│ 2024-02-02 09:33:49 │ PORTAL ONLINE      │ Trânsito e Transporte          │ Sinalização e Circulação de Veículos e Pedestres             │ Rodízio de veículos - Isenção para pessoa com deficiência (PCD) │ NULL                             │ nan     │ nan        │ NULL                      │ Vila Itaberaba                     │         0.0 │         0.0 │ NULL            │ FINALIZADA            │ SMT               │ NULL    │ nan     │ NULL              │ NULL                  │ nan                 │          │ 2024-03-21 12:45:59 │ NULL                │           NULL │ NULL                                                                                                                           │   NULL │   NULL │ NULL    │ NULL             │ 2024    │ 2       │\n",
      "│ 2024-02-02 09:33:46 │ CENTRAL TELEFÔNICA │ Animais                        │ Animais que transmitem doenças ou risco à saúde              │ Morcegos - Reclamar sobre local com morcegos                    │ Rua Vicente Leporace             │ nan     │ nan        │ SANTO AMARO               │ CAMPO BELO                         │         0.0 │         0.0 │ NULL            │ FINALIZADA            │ SMS               │ NULL    │ nan     │ NULL              │ NULL                  │ nan                 │          │ 2024-02-05 14:10:22 │ NULL                │           NULL │ NULL                                                                                                                           │   NULL │   NULL │ NULL    │ NULL             │ 2024    │ 2       │\n",
      "│ 2024-02-02 09:34:10 │ PORTAL ONLINE      │ Cultura, esporte e lazer       │ Centros esportivos                                           │ Centros esportivos ? Solicitar carteirinha                      │ NULL                             │ nan     │ nan        │ NULL                      │ CIDADE SÃO MATEUS                  │         0.0 │         0.0 │ NULL            │ FINALIZADA            │ SEME              │ NULL    │ nan     │ NULL              │ NULL                  │ nan                 │          │ 2024-02-02 23:27:40 │ NULL                │           NULL │ NULL                                                                                                                           │   NULL │   NULL │ NULL    │ NULL             │ 2024    │ 2       │\n",
      "├─────────────────────┴────────────────────┴────────────────────────────────┴──────────────────────────────────────────────────────────────┴─────────────────────────────────────────────────────────────────┴──────────────────────────────────┴─────────┴────────────┴───────────────────────────┴────────────────────────────────────┴─────────────┴─────────────┴─────────────────┴───────────────────────┴───────────────────┴─────────┴─────────┴───────────────────┴───────────────────────┴─────────────────────┴──────────┴─────────────────────┴─────────────────────┴────────────────┴────────────────────────────────────────────────────────────────────────────────────────────────────────────────────────────────┴────────┴────────┴─────────┴──────────────────┴─────────┴─────────┤\n",
      "│ ? rows (>9999 rows, 20 shown)                                                                                                                                                                                                                                                                                                                                                                                                                                                                                                                                                                                                                                                                                                                                                          31 columns │\n",
      "└───────────────────────────────────────────────────────────────────────────────────────────────────────────────────────────────────────────────────────────────────────────────────────────────────────────────────────────────────────────────────────────────────────────────────────────────────────────────────────────────────────────────────────────────────────────────────────────────────────────────────────────────────────────────────────────────────────────────────────────────────────────────────────────────────────────────────────────────────────────────────────────────────────────────────────────────────────────────────────────────────────────────────────────────────────────────────────────────────────────────────────────────────────────────────────────────────┘\n",
      "\n"
     ]
    }
   ],
   "source": [
    "import duckdb\n",
    "\n",
    "query = \"\"\"\n",
    "SELECT * FROM read_parquet('../database/*/*/*/*.parquet', union_by_name=True) \n",
    "WHERE ano = 2024 AND mes IN (2, 19)\n",
    "\"\"\"\n",
    "duckdb.sql(query).show()\n"
   ]
  }
 ],
 "metadata": {
  "colab": {
   "provenance": []
  },
  "kernelspec": {
   "display_name": "Python 3",
   "name": "python3"
  },
  "language_info": {
   "codemirror_mode": {
    "name": "ipython",
    "version": 3
   },
   "file_extension": ".py",
   "mimetype": "text/x-python",
   "name": "python",
   "nbconvert_exporter": "python",
   "pygments_lexer": "ipython3",
   "version": "3.12.1"
  },
  "widgets": {
   "application/vnd.jupyter.widget-state+json": {
    "597b362bbda54b2490f6eb47164865e0": {
     "model_module": "@jupyter-widgets/base",
     "model_module_version": "1.2.0",
     "model_name": "LayoutModel",
     "state": {
      "_model_module": "@jupyter-widgets/base",
      "_model_module_version": "1.2.0",
      "_model_name": "LayoutModel",
      "_view_count": null,
      "_view_module": "@jupyter-widgets/base",
      "_view_module_version": "1.2.0",
      "_view_name": "LayoutView",
      "align_content": null,
      "align_items": null,
      "align_self": null,
      "border": null,
      "bottom": null,
      "display": null,
      "flex": null,
      "flex_flow": null,
      "grid_area": null,
      "grid_auto_columns": null,
      "grid_auto_flow": null,
      "grid_auto_rows": null,
      "grid_column": null,
      "grid_gap": null,
      "grid_row": null,
      "grid_template_areas": null,
      "grid_template_columns": null,
      "grid_template_rows": null,
      "height": null,
      "justify_content": null,
      "justify_items": null,
      "left": null,
      "margin": null,
      "max_height": null,
      "max_width": null,
      "min_height": null,
      "min_width": null,
      "object_fit": null,
      "object_position": null,
      "order": null,
      "overflow": null,
      "overflow_x": null,
      "overflow_y": null,
      "padding": null,
      "right": null,
      "top": null,
      "visibility": null,
      "width": "auto"
     }
    },
    "5cb98f87fdd64ce497e8a56756e83ea6": {
     "model_module": "@jupyter-widgets/controls",
     "model_module_version": "1.5.0",
     "model_name": "FloatProgressModel",
     "state": {
      "_dom_classes": [],
      "_model_module": "@jupyter-widgets/controls",
      "_model_module_version": "1.5.0",
      "_model_name": "FloatProgressModel",
      "_view_count": null,
      "_view_module": "@jupyter-widgets/controls",
      "_view_module_version": "1.5.0",
      "_view_name": "ProgressView",
      "bar_style": "",
      "description": "",
      "description_tooltip": null,
      "layout": "IPY_MODEL_597b362bbda54b2490f6eb47164865e0",
      "max": 100,
      "min": 0,
      "orientation": "horizontal",
      "style": "IPY_MODEL_72c59ef3d83f4889877288e78dc2a962",
      "value": 100
     }
    },
    "72c59ef3d83f4889877288e78dc2a962": {
     "model_module": "@jupyter-widgets/controls",
     "model_module_version": "1.5.0",
     "model_name": "ProgressStyleModel",
     "state": {
      "_model_module": "@jupyter-widgets/controls",
      "_model_module_version": "1.5.0",
      "_model_name": "ProgressStyleModel",
      "_view_count": null,
      "_view_module": "@jupyter-widgets/base",
      "_view_module_version": "1.2.0",
      "_view_name": "StyleView",
      "bar_color": "black",
      "description_width": ""
     }
    }
   }
  }
 },
 "nbformat": 4,
 "nbformat_minor": 0
}
