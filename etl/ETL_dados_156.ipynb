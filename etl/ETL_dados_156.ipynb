{
  "cells": [
    {
      "cell_type": "markdown",
      "metadata": {
        "id": "c6aY6H8aHGEQ"
      },
      "source": [
        "### Instalação das dependências do Projeto\n",
        "\n",
        "- Scrapy para fazer parsear o html da pagina do 156 e coletar todas as urls dos csvs\n",
        "\n",
        "- Duckdb para para conseguir ler os arquivos de forma otimizada\n",
        "\n",
        "- Pyarrow para conseguir salvar os arquivos como parquet"
      ]
    },
    {
      "cell_type": "code",
      "execution_count": 1,
      "metadata": {
        "colab": {
          "base_uri": "https://localhost:8080/"
        },
        "id": "s68m61XXogSz",
        "outputId": "ee02ae80-8599-42af-fafe-bd6a2200d2c1"
      },
      "outputs": [],
      "source": [
        "!pip install -q scrapy\n",
        "!pip install -q duckdb\n",
        "!pip install -q pyarrow"
      ]
    },
    {
      "cell_type": "code",
      "execution_count": 2,
      "metadata": {
        "id": "mseGydFIr0xE"
      },
      "outputs": [],
      "source": [
        "import requests\n",
        "from scrapy import Selector\n",
        "from urllib.parse import urljoin\n",
        "import pandas as pd\n",
        "import requests\n",
        "from glob import glob\n",
        "from IPython.display import clear_output\n",
        "import os\n",
        "import duckdb"
      ]
    },
    {
      "cell_type": "markdown",
      "metadata": {
        "id": "epB3ITrd3Roc"
      },
      "source": [
        "### Scraping:\n",
        "\n",
        "A Etapa abaixo, realiza a raspagem do site da prefeitura, coletando todas as urls dos CSVs"
      ]
    },
    {
      "cell_type": "code",
      "execution_count": 3,
      "metadata": {
        "colab": {
          "base_uri": "https://localhost:8080/"
        },
        "id": "isqjbZ03rd8j",
        "outputId": "f895d38d-96f9-48a4-e1f3-865f90d5e1a3"
      },
      "outputs": [
        {
          "name": "stdout",
          "output_type": "stream",
          "text": [
            "200\n",
            "http://dados.prefeitura.sp.gov.br/dataset/0aecfa2b-aa3a-40d4-8183-0d4351b7fd0a/resource/2d020379-fa40-4dc0-8d17-add74b119550/download/arquivofinal2tri2024.csv\n",
            "http://dados.prefeitura.sp.gov.br/dataset/0aecfa2b-aa3a-40d4-8183-0d4351b7fd0a/resource/787c054d-3e77-46c8-8713-e4e26eb2dd55/download/arquivofinal1tri2024.csv\n",
            "http://dados.prefeitura.sp.gov.br/dataset/0aecfa2b-aa3a-40d4-8183-0d4351b7fd0a/resource/33d41278-02de-417a-a99a-5e01d3d87952/download/arquivofinal4tri2023.csv\n",
            "http://dados.prefeitura.sp.gov.br/dataset/0aecfa2b-aa3a-40d4-8183-0d4351b7fd0a/resource/b01a9038-969e-4630-bd3a-4abe188b7259/download/arquivofinal3tri2023.csv\n",
            "http://dados.prefeitura.sp.gov.br/dataset/0aecfa2b-aa3a-40d4-8183-0d4351b7fd0a/resource/7978d3ba-d379-44db-993b-61b9ff406435/download/arquivofinal2tri2023.csv\n",
            "http://dados.prefeitura.sp.gov.br/dataset/0aecfa2b-aa3a-40d4-8183-0d4351b7fd0a/resource/d3043e41-4270-47b5-9922-9e35edd10950/download/arquivofinal1tri2023.csv\n",
            "http://dados.prefeitura.sp.gov.br/dataset/0aecfa2b-aa3a-40d4-8183-0d4351b7fd0a/resource/68408b82-9123-4be0-87cf-bff9096947c6/download/arquivofinal4tri2022.csv\n",
            "http://dados.prefeitura.sp.gov.br/dataset/0aecfa2b-aa3a-40d4-8183-0d4351b7fd0a/resource/69b1460a-a245-47fa-bbb0-51f5e57c2f28/download/arquivofinal3tri2022.csv\n",
            "http://dados.prefeitura.sp.gov.br/dataset/0aecfa2b-aa3a-40d4-8183-0d4351b7fd0a/resource/6de63b14-e804-44cb-9be1-e8b2971504ce/download/arquivofinal2tri2022.csv\n",
            "http://dados.prefeitura.sp.gov.br/dataset/0aecfa2b-aa3a-40d4-8183-0d4351b7fd0a/resource/6e6b299c-1952-433c-be06-797a2bc14fda/download/arquivofinal1tri2022.csv\n",
            "http://dados.prefeitura.sp.gov.br/dataset/0aecfa2b-aa3a-40d4-8183-0d4351b7fd0a/resource/a08159cf-5263-430f-a16b-8d0683c5cb4c/download/arquivofinal4tri2021.csv\n",
            "http://dados.prefeitura.sp.gov.br/dataset/0aecfa2b-aa3a-40d4-8183-0d4351b7fd0a/resource/9b42cbd8-3d2e-4c9f-993e-6c49e62f1818/download/arquivofinal3tri2021.csv\n",
            "http://dados.prefeitura.sp.gov.br/dataset/0aecfa2b-aa3a-40d4-8183-0d4351b7fd0a/resource/a0f741c5-f406-4bda-b0c7-cab1af6bbd89/download/arquivofinal2tri2021.csv\n",
            "http://dados.prefeitura.sp.gov.br/dataset/0aecfa2b-aa3a-40d4-8183-0d4351b7fd0a/resource/3014d1de-8c16-4aa1-b03a-b8434905eab1/download/arquivofinal1tri2021.csv\n",
            "http://dados.prefeitura.sp.gov.br/dataset/0aecfa2b-aa3a-40d4-8183-0d4351b7fd0a/resource/02c449fc-1b5a-46d9-bcd3-b81db2751df6/download/arquivofinal6bi2020.csv\n",
            "http://dados.prefeitura.sp.gov.br/dataset/0aecfa2b-aa3a-40d4-8183-0d4351b7fd0a/resource/979baf13-5640-4cf7-8ad3-e465ce98fa2d/download/arquivofinal5bi2020.csv\n",
            "http://dados.prefeitura.sp.gov.br/dataset/0aecfa2b-aa3a-40d4-8183-0d4351b7fd0a/resource/a96a91e1-9328-4cf2-b77b-96865c978033/download/arquivofinal4bi2020.csv\n",
            "http://dados.prefeitura.sp.gov.br/dataset/0aecfa2b-aa3a-40d4-8183-0d4351b7fd0a/resource/b9c5aabf-bfe8-4933-95df-c880ff927dc0/download/arquivofinal3bi2020.csv\n",
            "http://dados.prefeitura.sp.gov.br/dataset/0aecfa2b-aa3a-40d4-8183-0d4351b7fd0a/resource/75356e9d-585d-4aa6-ac6c-b6245624623b/download/arquivofinal2bi2020.csv\n",
            "http://dados.prefeitura.sp.gov.br/dataset/0aecfa2b-aa3a-40d4-8183-0d4351b7fd0a/resource/91745827-93ac-4ef6-9055-21cc88b0d231/download/arquivofinal1bi2020.csv\n",
            "http://dados.prefeitura.sp.gov.br/dataset/0aecfa2b-aa3a-40d4-8183-0d4351b7fd0a/resource/0444ac8b-c47d-4799-9b29-69a8906419db/download/arquivofinal4tri2019.csv\n",
            "http://dados.prefeitura.sp.gov.br/dataset/0aecfa2b-aa3a-40d4-8183-0d4351b7fd0a/resource/d5632822-913a-4fac-bf53-fe7c123b70c4/download/arquivofinal3tri2019.csv\n",
            "http://dados.prefeitura.sp.gov.br/dataset/0aecfa2b-aa3a-40d4-8183-0d4351b7fd0a/resource/ca0c51f6-3a48-478e-817e-b5a396474923/download/arquivofinal2tri2019.csv\n",
            "http://dados.prefeitura.sp.gov.br/dataset/0aecfa2b-aa3a-40d4-8183-0d4351b7fd0a/resource/c9d2c14d-e31a-4c92-90fb-43ecb91fba17/download/arquivofinal1tri2019.csv\n",
            "http://dados.prefeitura.sp.gov.br/dataset/0aecfa2b-aa3a-40d4-8183-0d4351b7fd0a/resource/9fbfeae7-cbdc-4abd-9a06-115943ff86c7/download/arquivofinal4tri2018.csv\n",
            "http://dados.prefeitura.sp.gov.br/dataset/0aecfa2b-aa3a-40d4-8183-0d4351b7fd0a/resource/bdcd19e1-d5a0-4972-ae6f-53b9b76994cf/download/arquivofinal3tri2018.csv\n",
            "http://dados.prefeitura.sp.gov.br/dataset/0aecfa2b-aa3a-40d4-8183-0d4351b7fd0a/resource/48e72ece-0fca-4220-bf85-052f0e172cfc/download/arquivofinal2tri2018.csv\n",
            "http://dados.prefeitura.sp.gov.br/dataset/0aecfa2b-aa3a-40d4-8183-0d4351b7fd0a/resource/f6b6583f-1ea5-4be6-8ff1-a7c9ef38701a/download/arquivofinal1tri2018.csv\n",
            "http://dados.prefeitura.sp.gov.br/dataset/0aecfa2b-aa3a-40d4-8183-0d4351b7fd0a/resource/78b35ad3-bdb9-4a67-a9b6-c93ad9031b48/download/arquivofinal4tri2017.csv\n",
            "http://dados.prefeitura.sp.gov.br/dataset/0aecfa2b-aa3a-40d4-8183-0d4351b7fd0a/resource/cae8b355-f70f-4ecd-8659-04c6efc9fcf2/download/arquivofinal3tri2017.csv\n",
            "http://dados.prefeitura.sp.gov.br/dataset/0aecfa2b-aa3a-40d4-8183-0d4351b7fd0a/resource/ad6a5b74-fa05-49ca-984d-73d8af395880/download/arquivofinal2tri2017.csv\n",
            "http://dados.prefeitura.sp.gov.br/dataset/0aecfa2b-aa3a-40d4-8183-0d4351b7fd0a/resource/193bd5a3-66c0-4dde-8efb-c0c78031bf7c/download/arquivofinal1tri2017.csv\n",
            "http://dados.prefeitura.sp.gov.br/dataset/0aecfa2b-aa3a-40d4-8183-0d4351b7fd0a/resource/7ffee3db-a1a8-4e70-af5c-b3002d035aa8/download/arquivofinal4tri2016.csv\n",
            "http://dados.prefeitura.sp.gov.br/dataset/0aecfa2b-aa3a-40d4-8183-0d4351b7fd0a/resource/9188083e-57f3-4c2d-afe5-17f3c5382dd8/download/arquivofinal3tri2016.csv\n",
            "http://dados.prefeitura.sp.gov.br/dataset/0aecfa2b-aa3a-40d4-8183-0d4351b7fd0a/resource/a48ce8ec-5639-4a2b-9598-f10186119dfd/download/arquivofinal2tri2016.csv\n",
            "http://dados.prefeitura.sp.gov.br/dataset/0aecfa2b-aa3a-40d4-8183-0d4351b7fd0a/resource/a9297647-db9d-448b-8110-02a0fbbd7848/download/arquivofinal1tri2016.csv\n",
            "http://dados.prefeitura.sp.gov.br/dataset/0aecfa2b-aa3a-40d4-8183-0d4351b7fd0a/resource/de5ce706-b1ce-48c3-97fc-12cafa823445/download/arquivofinal4tri2015-copia.csv\n",
            "http://dados.prefeitura.sp.gov.br/dataset/0aecfa2b-aa3a-40d4-8183-0d4351b7fd0a/resource/0d89e996-89f4-4154-b6a6-e6e991e0971f/download/arquivofinal3tri2015-copia.csv\n",
            "http://dados.prefeitura.sp.gov.br/dataset/0aecfa2b-aa3a-40d4-8183-0d4351b7fd0a/resource/4b21bb94-ee5d-48d8-806b-87dd7acbb678/download/arquivofinal2tri2015-copia.csv\n",
            "http://dados.prefeitura.sp.gov.br/dataset/0aecfa2b-aa3a-40d4-8183-0d4351b7fd0a/resource/88c10950-4fc9-4ed7-a86c-53d3e4430619/download/arquivofinal1tri2015-copia.csv\n",
            "http://dados.prefeitura.sp.gov.br/dataset/0aecfa2b-aa3a-40d4-8183-0d4351b7fd0a/resource/a1e179d8-4c28-4f54-9d5f-47e4c40d45ea/download/arquivofinal2sem2014.xlsx.csv\n",
            "http://dados.prefeitura.sp.gov.br/dataset/0aecfa2b-aa3a-40d4-8183-0d4351b7fd0a/resource/0f3089e2-ca7e-4b7a-a776-e56af02e23f1/download/arquivofinal1sem2014.xlsx.csv\n",
            "http://dados.prefeitura.sp.gov.br/dataset/0aecfa2b-aa3a-40d4-8183-0d4351b7fd0a/resource/78e30581-c517-4098-81ed-f0ff8d4feda3/download/arquivofinal2sem2013.xlsx.csv\n",
            "http://dados.prefeitura.sp.gov.br/dataset/0aecfa2b-aa3a-40d4-8183-0d4351b7fd0a/resource/328ab864-b07c-4ec8-9035-56d3dbac19fe/download/arquivofinal1sem2013.xlsx.csv\n",
            "http://dados.prefeitura.sp.gov.br/dataset/0aecfa2b-aa3a-40d4-8183-0d4351b7fd0a/resource/ecb2edb1-1a44-4ce0-8343-d4400b744b9e/download/arquivofinal2sem2012.xlsx.csv\n",
            "http://dados.prefeitura.sp.gov.br/dataset/0aecfa2b-aa3a-40d4-8183-0d4351b7fd0a/resource/e08a9a50-969a-43ec-b5df-dff69b026c7d/download/arquivofinal1sem2012.xlsx.csv\n"
          ]
        }
      ],
      "source": [
        "def fetch_csv_urls():\n",
        "    url = 'http://dados.prefeitura.sp.gov.br/dataset/dados-do-sp156'\n",
        "    response = requests.get(url)\n",
        "    print(response.status_code)\n",
        "    sel = Selector(text=response.text)\n",
        "    csv_links = sel.css('a::attr(href)').re(r'.*\\.csv$')\n",
        "    csv_links = [urljoin(response.url, link) for link in csv_links]\n",
        "    return csv_links\n",
        "\n",
        "if __name__ == \"__main__\":\n",
        "    csv_urls = fetch_csv_urls()\n",
        "    for url in csv_urls:\n",
        "        print(url)\n",
        "        with open('urls.txt', 'a') as file:\n",
        "            file.write(url + '\\n')\n"
      ]
    },
    {
      "cell_type": "markdown",
      "metadata": {
        "id": "CGqwVw1VHy0e"
      },
      "source": [
        "### Download dos arquivos CSV\n",
        "\n",
        "Neste momento iremos realizar o download de todos os arquivos do tipo CSV e vamos converter para parquet, que é um formato mais otimizado."
      ]
    },
    {
      "cell_type": "code",
      "execution_count": 5,
      "metadata": {
        "id": "VNWo_XcqGKXR"
      },
      "outputs": [
        {
          "name": "stdout",
          "output_type": "stream",
          "text": [
            "download arquivofinal2tri2024.csv\n",
            "download arquivofinal1tri2024.csv\n",
            "download arquivofinal4tri2023.csv\n",
            "download arquivofinal3tri2023.csv\n",
            "download arquivofinal2tri2023.csv\n",
            "download arquivofinal1tri2023.csv\n",
            "download arquivofinal4tri2022.csv\n",
            "download arquivofinal3tri2022.csv\n",
            "download arquivofinal2tri2022.csv\n",
            "download arquivofinal1tri2022.csv\n",
            "download arquivofinal4tri2021.csv\n",
            "download arquivofinal3tri2021.csv\n",
            "download arquivofinal2tri2021.csv\n",
            "download arquivofinal1tri2021.csv\n",
            "download arquivofinal6bi2020.csv\n",
            "download arquivofinal5bi2020.csv\n",
            "download arquivofinal4bi2020.csv\n",
            "download arquivofinal3bi2020.csv\n",
            "download arquivofinal2bi2020.csv\n",
            "download arquivofinal1bi2020.csv\n",
            "download arquivofinal4tri2019.csv\n",
            "download arquivofinal3tri2019.csv\n",
            "download arquivofinal2tri2019.csv\n",
            "download arquivofinal1tri2019.csv\n",
            "download arquivofinal4tri2018.csv\n",
            "download arquivofinal3tri2018.csv\n",
            "download arquivofinal2tri2018.csv\n",
            "download arquivofinal1tri2018.csv\n",
            "download arquivofinal4tri2017.csv\n",
            "download arquivofinal3tri2017.csv\n",
            "download arquivofinal2tri2017.csv\n",
            "download arquivofinal1tri2017.csv\n",
            "download arquivofinal4tri2016.csv\n",
            "download arquivofinal3tri2016.csv\n",
            "download arquivofinal2tri2016.csv\n",
            "download arquivofinal1tri2016.csv\n",
            "download arquivofinal4tri2015-copia.csv\n",
            "download arquivofinal3tri2015-copia.csv\n",
            "download arquivofinal2tri2015-copia.csv\n",
            "download arquivofinal1tri2015-copia.csv\n",
            "download arquivofinal2sem2014.xlsx.csv\n",
            "download arquivofinal1sem2014.xlsx.csv\n",
            "download arquivofinal2sem2013.xlsx.csv\n",
            "download arquivofinal1sem2013.xlsx.csv\n",
            "download arquivofinal2sem2012.xlsx.csv\n",
            "download arquivofinal1sem2012.xlsx.csv\n"
          ]
        }
      ],
      "source": [
        "# Função para baixar o CSV\n",
        "def download_csv(url, save_path):\n",
        "    response = requests.get(url)\n",
        "    if response.status_code == 200:\n",
        "        with open(save_path, 'wb') as file:\n",
        "            file.write(response.content)\n",
        "    else:\n",
        "        print(f\"Erro ao baixar {url}: Status {response.status_code}\")\n",
        "\n",
        "\n",
        "# Função para processar as URLs\n",
        "def process_urls(file_with_urls):\n",
        "    # Lê as URLs do arquivo de texto\n",
        "    with open(file_with_urls, 'r') as file:\n",
        "        urls = file.read().splitlines()\n",
        "\n",
        "    for url in urls:\n",
        "        file_name = os.path.basename(url)\n",
        "        csv_path = f\"../downloads/{file_name}\"\n",
        "        download_csv(url, csv_path)\n",
        "        print(f\"download {file_name}\")\n",
        "\n",
        "file_with_urls = 'urls.txt'\n",
        "os.makedirs('../downloads', exist_ok=True)\n",
        "process_urls(file_with_urls)\n"
      ]
    },
    {
      "cell_type": "markdown",
      "metadata": {},
      "source": [
        "### Conversão de arquivos em CSV para PARQUET e particionamento\n",
        "\n",
        "Nesta etapa, estamos realizando a conversão de todos os arquivos tipo CSV para parquet, que é um format otimado, e também estamos particionando os dados, para tornar as consultas mais leves."
      ]
    },
    {
      "cell_type": "code",
      "execution_count": 8,
      "metadata": {
        "colab": {
          "base_uri": "https://localhost:8080/"
        },
        "id": "2JEH0dUZB53G",
        "outputId": "d9c6dc13-7b17-453a-e23c-c030e4591e3b"
      },
      "outputs": [
        {
          "name": "stderr",
          "output_type": "stream",
          "text": [
            "/tmp/ipykernel_7368/1152280556.py:4: DtypeWarning: Columns (6,7) have mixed types. Specify dtype option on import or set low_memory=False.\n",
            "  df = pd.read_csv(path, encoding='latin-1', sep=';')\n"
          ]
        }
      ],
      "source": [
        "def csv_to_parquet():\n",
        "    for path in glob('../downloads/*.csv'):\n",
        "\n",
        "        df = pd.read_csv(path, encoding='latin-1', sep=';')\n",
        "\n",
        "        # Preenchendo valores NaN com padrões adequados\n",
        "        df.fillna({'Data de abertura': '0000-00-00 00:00:00',\n",
        "                   'Canal': '',\n",
        "                   'Tema': '',\n",
        "                   'Assunto': '',\n",
        "                   'Serviço': '',\n",
        "                   'Logradouro': '',\n",
        "                   'CEP': '',\n",
        "                   'Subprefeitura': '',\n",
        "                   'Distrito': '',\n",
        "                   'Latitude': 0.00,\n",
        "                   'Longitude': 0.00,\n",
        "                   'Data do Parecer': '0000-00-00 00:00:00',\n",
        "                   'Status da solicitação': '',\n",
        "                   'Orgão': '',\n",
        "                   'Data': '0000-00-00',\n",
        "                   'Prazo Atendimento': '',\n",
        "                   'Qualidade Atendimento': '',\n",
        "                   'Atendeu Solicitação': ''}, inplace=True)\n",
        "\n",
        "        # Convertendo as colunas de data para datetime\n",
        "        df['Data de abertura'] = pd.to_datetime(df['Data de abertura'], errors='coerce')\n",
        "        df['Data do Parecer'] = pd.to_datetime(df['Data do Parecer'], errors='coerce')\n",
        "\n",
        "        # Tratamento de colunas com valores numéricos e strings\n",
        "        try:\n",
        "            df['Número'] = df['Número'].astype(str).fillna('')\n",
        "        except KeyError:\n",
        "            df['Número'] = df['Numero'].astype(str).fillna('')\n",
        "\n",
        "        try:\n",
        "            df['Orgão'] = df['Orgão'].astype(str).fillna('')\n",
        "        except KeyError:\n",
        "            df['Orgão'] = df['Orgao'].astype(str).fillna('')\n",
        "\n",
        "        try:\n",
        "            df['Nível'] = df['Nível'].astype(str).fillna('')\n",
        "        except KeyError:\n",
        "            df['Nível'] = df['Nivel'].astype(str).fillna('')\n",
        "\n",
        "        try:\n",
        "            df['Atendeu Solicitação'] = df['Atendeu Solicitação'].astype(str).fillna('')\n",
        "        except KeyError:\n",
        "            df['Atendeu Solicitação'] = df['Atendeu Solicitacao'].astype(str).fillna('')\n",
        "\n",
        "        df['CEP'] = df['CEP'].astype(str)\n",
        "        df['Latitude'] = pd.to_numeric(df['Latitude'], errors='coerce').fillna(0.00).astype(float)\n",
        "        df['Longitude'] = pd.to_numeric(df['Longitude'], errors='coerce').fillna(0.00).astype(float)\n",
        "\n",
        "        # Criando colunas para ano e mês da Data de abertura\n",
        "        df['Ano'] = df['Data de abertura'].dt.year\n",
        "        df['Mes'] = df['Data de abertura'].dt.month\n",
        "\n",
        "        # Selecionando as colunas que queremos\n",
        "        df = df[['Data de abertura', 'Canal', 'Tema', 'Assunto',\n",
        "                 'Serviço', 'Logradouro', 'Número', 'CEP',\n",
        "                 'Latitude', 'Longitude', 'Data do Parecer',\n",
        "                 'Status da solicitação', 'Orgão', 'Data',\n",
        "                 'Nível', 'Prazo Atendimento', 'Qualidade Atendimento',\n",
        "                 'Atendeu Solicitação', 'Ano', 'Mes']]\n",
        "\n",
        "        # Gerando o caminho do parquet e particionando por ano e mês (formato Hive)\n",
        "        parquet_path = f\"../database/{path.split('/')[-1].replace('.csv', '')}\"\n",
        "\n",
        "        df.to_parquet(parquet_path, index=False, partition_cols=['Ano', 'Mes'])\n",
        "        clear_output(wait=True)\n",
        "\n",
        "csv_to_parquet()\n"
      ]
    },
    {
      "cell_type": "markdown",
      "metadata": {},
      "source": [
        "### Testes com Duckdb"
      ]
    },
    {
      "cell_type": "code",
      "execution_count": 1,
      "metadata": {
        "colab": {
          "base_uri": "https://localhost:8080/",
          "height": 170,
          "referenced_widgets": [
            "5cb98f87fdd64ce497e8a56756e83ea6",
            "597b362bbda54b2490f6eb47164865e0",
            "72c59ef3d83f4889877288e78dc2a962"
          ]
        },
        "id": "kDq8vXgGQJUK",
        "outputId": "cf392c2d-ec3b-4c87-c16d-01faaf8eb111"
      },
      "outputs": [],
      "source": [
        "import duckdb\n",
        "query = \"\"\"\n",
        "SELECT \n",
        "  Ano, \n",
        "  COUNT(*) as Total_Chamados \n",
        "FROM read_parquet('../database/*/*/*/*.parquet') \n",
        "GROUP BY Ano \n",
        "ORDER BY Total_Chamados DESC LIMIT 1\n",
        "\"\"\"\n",
        "df = duckdb.sql(query).df()\n"
      ]
    },
    {
      "cell_type": "code",
      "execution_count": 2,
      "metadata": {},
      "outputs": [
        {
          "data": {
            "text/html": [
              "<div>\n",
              "<style scoped>\n",
              "    .dataframe tbody tr th:only-of-type {\n",
              "        vertical-align: middle;\n",
              "    }\n",
              "\n",
              "    .dataframe tbody tr th {\n",
              "        vertical-align: top;\n",
              "    }\n",
              "\n",
              "    .dataframe thead th {\n",
              "        text-align: right;\n",
              "    }\n",
              "</style>\n",
              "<table border=\"1\" class=\"dataframe\">\n",
              "  <thead>\n",
              "    <tr style=\"text-align: right;\">\n",
              "      <th></th>\n",
              "      <th>Ano</th>\n",
              "      <th>Total_Chamados</th>\n",
              "    </tr>\n",
              "  </thead>\n",
              "  <tbody>\n",
              "    <tr>\n",
              "      <th>0</th>\n",
              "      <td>2023</td>\n",
              "      <td>2258166</td>\n",
              "    </tr>\n",
              "  </tbody>\n",
              "</table>\n",
              "</div>"
            ],
            "text/plain": [
              "    Ano  Total_Chamados\n",
              "0  2023         2258166"
            ]
          },
          "execution_count": 2,
          "metadata": {},
          "output_type": "execute_result"
        }
      ],
      "source": [
        "df"
      ]
    }
  ],
  "metadata": {
    "colab": {
      "provenance": []
    },
    "kernelspec": {
      "display_name": "Python 3",
      "name": "python3"
    },
    "language_info": {
      "codemirror_mode": {
        "name": "ipython",
        "version": 3
      },
      "file_extension": ".py",
      "mimetype": "text/x-python",
      "name": "python",
      "nbconvert_exporter": "python",
      "pygments_lexer": "ipython3",
      "version": "3.12.1"
    },
    "widgets": {
      "application/vnd.jupyter.widget-state+json": {
        "597b362bbda54b2490f6eb47164865e0": {
          "model_module": "@jupyter-widgets/base",
          "model_module_version": "1.2.0",
          "model_name": "LayoutModel",
          "state": {
            "_model_module": "@jupyter-widgets/base",
            "_model_module_version": "1.2.0",
            "_model_name": "LayoutModel",
            "_view_count": null,
            "_view_module": "@jupyter-widgets/base",
            "_view_module_version": "1.2.0",
            "_view_name": "LayoutView",
            "align_content": null,
            "align_items": null,
            "align_self": null,
            "border": null,
            "bottom": null,
            "display": null,
            "flex": null,
            "flex_flow": null,
            "grid_area": null,
            "grid_auto_columns": null,
            "grid_auto_flow": null,
            "grid_auto_rows": null,
            "grid_column": null,
            "grid_gap": null,
            "grid_row": null,
            "grid_template_areas": null,
            "grid_template_columns": null,
            "grid_template_rows": null,
            "height": null,
            "justify_content": null,
            "justify_items": null,
            "left": null,
            "margin": null,
            "max_height": null,
            "max_width": null,
            "min_height": null,
            "min_width": null,
            "object_fit": null,
            "object_position": null,
            "order": null,
            "overflow": null,
            "overflow_x": null,
            "overflow_y": null,
            "padding": null,
            "right": null,
            "top": null,
            "visibility": null,
            "width": "auto"
          }
        },
        "5cb98f87fdd64ce497e8a56756e83ea6": {
          "model_module": "@jupyter-widgets/controls",
          "model_module_version": "1.5.0",
          "model_name": "FloatProgressModel",
          "state": {
            "_dom_classes": [],
            "_model_module": "@jupyter-widgets/controls",
            "_model_module_version": "1.5.0",
            "_model_name": "FloatProgressModel",
            "_view_count": null,
            "_view_module": "@jupyter-widgets/controls",
            "_view_module_version": "1.5.0",
            "_view_name": "ProgressView",
            "bar_style": "",
            "description": "",
            "description_tooltip": null,
            "layout": "IPY_MODEL_597b362bbda54b2490f6eb47164865e0",
            "max": 100,
            "min": 0,
            "orientation": "horizontal",
            "style": "IPY_MODEL_72c59ef3d83f4889877288e78dc2a962",
            "value": 100
          }
        },
        "72c59ef3d83f4889877288e78dc2a962": {
          "model_module": "@jupyter-widgets/controls",
          "model_module_version": "1.5.0",
          "model_name": "ProgressStyleModel",
          "state": {
            "_model_module": "@jupyter-widgets/controls",
            "_model_module_version": "1.5.0",
            "_model_name": "ProgressStyleModel",
            "_view_count": null,
            "_view_module": "@jupyter-widgets/base",
            "_view_module_version": "1.2.0",
            "_view_name": "StyleView",
            "bar_color": "black",
            "description_width": ""
          }
        }
      }
    }
  },
  "nbformat": 4,
  "nbformat_minor": 0
}
